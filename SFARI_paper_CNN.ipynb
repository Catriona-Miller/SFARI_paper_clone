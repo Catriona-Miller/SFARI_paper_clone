{
 "cells": [
  {
   "cell_type": "markdown",
   "id": "a5adc078-1380-4ae7-81d8-473bcc49e610",
   "metadata": {},
   "source": [
    "# Replication of code from Wang and Avillach (2021)"
   ]
  },
  {
   "cell_type": "code",
   "execution_count": 439,
   "id": "c9d4a047",
   "metadata": {},
   "outputs": [],
   "source": [
    "import numpy as np\n",
    "import pandas as pd\n",
    "import tensorflow as tf\n",
    "from tensorflow.keras.models import Sequential\n",
    "from tensorflow.keras.layers import Conv2D, MaxPooling2D, Dropout, Flatten, Dense\n",
    "from tensorflow import keras\n",
    "from keras.optimizers import SGD\n",
    "from keras.models import Sequential\n",
    "from keras.layers import Dense, Conv1D, Flatten, Conv1D, Dropout, MaxPooling1D\n",
    "from sklearn.model_selection import train_test_split\n",
    "from sklearn.metrics import accuracy_score, precision_score, recall_score, f1_score, roc_curve, auc, roc_auc_score\n",
    "from keras import regularizers\n",
    "import keras\n",
    "import os\n",
    "import tempfile\n",
    "from sklearn.preprocessing import LabelBinarizer\n",
    "from tensorflow.keras.callbacks import EarlyStopping, LearningRateScheduler\n",
    "from sklearn.feature_selection import SelectKBest, chi2\n",
    "from sklearn.ensemble import RandomForestClassifier\n",
    "import random\n",
    "from sklearn.utils import shuffle\n",
    "from random import seed\n",
    "import plotly.express as px"
   ]
  },
  {
   "cell_type": "code",
   "execution_count": 371,
   "id": "5d933e35",
   "metadata": {},
   "outputs": [],
   "source": [
    "# Downloading the 100 top SNPs from Wang & Avillach. \n",
    "# These SNPs were not provided as supplementary material but were found in Wang's github\n",
    "snp_matrix = pd.read_csv('RepeatPaper/prosib_topSNPs_pheno.raw', sep=' ')"
   ]
  },
  {
   "cell_type": "markdown",
   "id": "11cadf38-cc2f-43e1-b75d-13956325f9f5",
   "metadata": {
    "jp-MarkdownHeadingCollapsed": true
   },
   "source": [
    "Replicating their code. Below cell is what was done in Wang's github.\n",
    "<br> *Comments highlight why it doesn't work as expected*"
   ]
  },
  {
   "cell_type": "code",
   "execution_count": 419,
   "id": "6653ec90",
   "metadata": {},
   "outputs": [],
   "source": [
    "random.seed(10)\n",
    "only_snps = snp_matrix.drop(columns=['FID', 'IID', 'PAT', 'MAT', 'SEX'])\n",
    "only_snps = shuffle(only_snps) # indices are no longer equivalent to labels\n",
    "train_index = random.sample(range(only_snps.shape[0]), int(only_snps.shape[0]*0.80))\n",
    "X_train = only_snps.iloc[train_index] # this line goes by index\n",
    "X_test = only_snps.drop(train_index) # this line goes by label (because of shuffle this isn't the same)\n",
    "\n",
    "\n",
    "y_train = X_train['PHENOTYPE'] - 1\n",
    "y_test = X_test['PHENOTYPE'] - 1\n",
    "X_train = X_train.drop(columns=['PHENOTYPE'])\n",
    "X_test = X_test.drop(columns=['PHENOTYPE'])\n",
    "# this is not copied from Wang and Avillach but is required to replicate vcfgt function (see further down in notebook)\n",
    "X_train = X_train.replace(0,1) \n",
    "X_train = X_train.fillna(0)\n",
    "X_test= X_test.replace(0,1)\n",
    "X_test = X_test.fillna(0)"
   ]
  },
  {
   "cell_type": "markdown",
   "id": "f8c077e2-b617-41c6-a264-a65704143908",
   "metadata": {},
   "source": [
    "Below cell shows how it could be done correctly. *Note: running both the below cell after the above cell will replace variables due to identical variable names. Purely for explanatory purposes*"
   ]
  },
  {
   "cell_type": "code",
   "execution_count": 437,
   "id": "0c876528",
   "metadata": {},
   "outputs": [],
   "source": [
    "# Fixed code. This shows an example of how it could be done that works\n",
    "snp_y = snp_matrix['PHENOTYPE'] - 1\n",
    "only_snps = snp_matrix.drop(columns=['FID', 'IID', 'PAT', 'MAT', 'PHENOTYPE', 'SEX'])\n",
    "only_snps = only_snps.fillna(0)\n",
    "X_train, X_test, y_train, y_test = train_test_split(only_snps, snp_y, test_size=0.2, random_state=10)"
   ]
  },
  {
   "cell_type": "code",
   "execution_count": 411,
   "id": "9c938cd8",
   "metadata": {},
   "outputs": [],
   "source": [
    "random.seed(10)\n",
    "# Just train split error so correcting for SNP coding\n",
    "only_snps = snp_matrix.drop(columns=['FID', 'IID', 'PAT', 'MAT', 'SEX'])\n",
    "only_snps = shuffle(only_snps) # indices are no longer equivalent to labels\n",
    "train_index = random.sample(range(only_snps.shape[0]), int(only_snps.shape[0]*0.80))\n",
    "X_train = only_snps.iloc[train_index] # this line goes by index\n",
    "X_test = only_snps.drop(train_index) # this line goes by label (because of shuffle this isn't the same)\n",
    "\n",
    "y_train = X_train['PHENOTYPE'] - 1\n",
    "y_test = X_test['PHENOTYPE'] - 1\n",
    "X_train = X_train.drop(columns=['PHENOTYPE'])\n",
    "X_test = X_test.drop(columns=['PHENOTYPE'])\n",
    "X_train = X_train.fillna(0)\n",
    "X_test = X_test.fillna(0)"
   ]
  },
  {
   "cell_type": "markdown",
   "id": "8b18b6bb-346d-4594-91d8-fefed2582c3d",
   "metadata": {},
   "source": [
    "**Below is the CNN from Wang & Avillach.** *Note: the current output displayed in this notebook is from trying to replicate the code exactly (see cell '[419]' further up)*"
   ]
  },
  {
   "cell_type": "code",
   "execution_count": 420,
   "id": "f380e5a3",
   "metadata": {},
   "outputs": [],
   "source": [
    "X_train = X_train.to_numpy().reshape((X_train.shape[0],X_train.shape[1],1))\n",
    "X_test = X_test.to_numpy().reshape((X_test.shape[0],X_test.shape[1],1))\n",
    "input_shape = X_test.shape[1:]\n",
    "\n",
    "## Actually from their paper\n",
    "import tensorflow as tf\n",
    "from tensorflow import keras\n",
    "from keras.optimizers import SGD\n",
    "from keras.models import Sequential\n",
    "from keras.layers import Dense, Conv1D, Flatten, Conv1D, Dropout, MaxPooling1D\n",
    "\n",
    "model = Sequential()\n",
    "model.add(Conv1D(filters=64, kernel_size=3, activation='relu', input_shape=input_shape))\n",
    "model.add(Conv1D(filters=128, kernel_size=3, activation='relu'))\n",
    "model.add(MaxPooling1D(pool_size=2))\n",
    "model.add(Dropout(rate = 0.5))\n",
    "model.add(Conv1D(filters=64, kernel_size=3, activation='relu'))\n",
    "model.add(MaxPooling1D(pool_size=2))\n",
    "model.add(Dropout(rate = 0.5))\n",
    "model.add(Flatten())\n",
    "model.add(Dense(50, activation='relu'))\n",
    "model.add(Dense(1, activation='sigmoid'))\n",
    "sgd = SGD(learning_rate=0.01, momentum=0.08)\n",
    "model.compile(loss='binary_crossentropy', optimizer='adam', metrics=['accuracy'])"
   ]
  },
  {
   "cell_type": "code",
   "execution_count": 421,
   "id": "cde4b69c",
   "metadata": {},
   "outputs": [
    {
     "name": "stdout",
     "output_type": "stream",
     "text": [
      "Epoch 1/95\n",
      "25/25 [==============================] - 2s 13ms/step - loss: 0.6819 - accuracy: 0.5618\n",
      "Epoch 2/95\n",
      "25/25 [==============================] - 0s 13ms/step - loss: 0.6718 - accuracy: 0.5740\n",
      "Epoch 3/95\n",
      "25/25 [==============================] - 0s 12ms/step - loss: 0.6670 - accuracy: 0.5766\n",
      "Epoch 4/95\n",
      "25/25 [==============================] - 0s 12ms/step - loss: 0.6628 - accuracy: 0.5990\n",
      "Epoch 5/95\n",
      "25/25 [==============================] - 0s 13ms/step - loss: 0.6489 - accuracy: 0.6240\n",
      "Epoch 6/95\n",
      "25/25 [==============================] - 0s 12ms/step - loss: 0.6376 - accuracy: 0.6672\n",
      "Epoch 7/95\n",
      "25/25 [==============================] - 0s 12ms/step - loss: 0.6239 - accuracy: 0.6775\n",
      "Epoch 8/95\n",
      "25/25 [==============================] - 0s 12ms/step - loss: 0.6290 - accuracy: 0.6855\n",
      "Epoch 9/95\n",
      "25/25 [==============================] - 0s 12ms/step - loss: 0.6210 - accuracy: 0.6845\n",
      "Epoch 10/95\n",
      "25/25 [==============================] - 0s 12ms/step - loss: 0.6174 - accuracy: 0.6877\n",
      "Epoch 11/95\n",
      "25/25 [==============================] - 0s 12ms/step - loss: 0.6106 - accuracy: 0.6931\n",
      "Epoch 12/95\n",
      "25/25 [==============================] - 0s 12ms/step - loss: 0.6145 - accuracy: 0.6967\n",
      "Epoch 13/95\n",
      "25/25 [==============================] - 0s 12ms/step - loss: 0.6071 - accuracy: 0.7021\n",
      "Epoch 14/95\n",
      "25/25 [==============================] - 0s 13ms/step - loss: 0.6028 - accuracy: 0.7037\n",
      "Epoch 15/95\n",
      "25/25 [==============================] - 0s 12ms/step - loss: 0.6027 - accuracy: 0.7047\n",
      "Epoch 16/95\n",
      "25/25 [==============================] - 0s 12ms/step - loss: 0.6038 - accuracy: 0.7060\n",
      "Epoch 17/95\n",
      "25/25 [==============================] - 0s 12ms/step - loss: 0.6018 - accuracy: 0.7082\n",
      "Epoch 18/95\n",
      "25/25 [==============================] - 0s 12ms/step - loss: 0.6053 - accuracy: 0.7056\n",
      "Epoch 19/95\n",
      "25/25 [==============================] - 0s 12ms/step - loss: 0.6001 - accuracy: 0.7152\n",
      "Epoch 20/95\n",
      "25/25 [==============================] - 0s 13ms/step - loss: 0.5978 - accuracy: 0.7114\n",
      "Epoch 21/95\n",
      "25/25 [==============================] - 0s 13ms/step - loss: 0.5916 - accuracy: 0.7095\n",
      "Epoch 22/95\n",
      "25/25 [==============================] - 0s 12ms/step - loss: 0.5952 - accuracy: 0.7092\n",
      "Epoch 23/95\n",
      "25/25 [==============================] - 0s 12ms/step - loss: 0.5939 - accuracy: 0.7056\n",
      "Epoch 24/95\n",
      "25/25 [==============================] - 0s 12ms/step - loss: 0.5932 - accuracy: 0.7130\n",
      "Epoch 25/95\n",
      "25/25 [==============================] - 0s 12ms/step - loss: 0.5916 - accuracy: 0.7140\n",
      "Epoch 26/95\n",
      "25/25 [==============================] - 0s 12ms/step - loss: 0.5924 - accuracy: 0.7149\n",
      "Epoch 27/95\n",
      "25/25 [==============================] - 0s 12ms/step - loss: 0.5934 - accuracy: 0.7133\n",
      "Epoch 28/95\n",
      "25/25 [==============================] - 0s 12ms/step - loss: 0.5858 - accuracy: 0.7152\n",
      "Epoch 29/95\n",
      "25/25 [==============================] - 0s 13ms/step - loss: 0.5900 - accuracy: 0.7101\n",
      "Epoch 30/95\n",
      "25/25 [==============================] - 0s 12ms/step - loss: 0.5844 - accuracy: 0.7165\n",
      "Epoch 31/95\n",
      "25/25 [==============================] - 0s 12ms/step - loss: 0.5862 - accuracy: 0.7111\n",
      "Epoch 32/95\n",
      "25/25 [==============================] - 0s 12ms/step - loss: 0.5867 - accuracy: 0.7201\n",
      "Epoch 33/95\n",
      "25/25 [==============================] - 0s 12ms/step - loss: 0.5860 - accuracy: 0.7117\n",
      "Epoch 34/95\n",
      "25/25 [==============================] - 0s 12ms/step - loss: 0.5837 - accuracy: 0.7188\n",
      "Epoch 35/95\n",
      "25/25 [==============================] - 0s 12ms/step - loss: 0.5819 - accuracy: 0.7114\n",
      "Epoch 36/95\n",
      "25/25 [==============================] - 0s 12ms/step - loss: 0.5819 - accuracy: 0.7143\n",
      "Epoch 37/95\n",
      "25/25 [==============================] - 0s 13ms/step - loss: 0.5816 - accuracy: 0.7188\n",
      "Epoch 38/95\n",
      "25/25 [==============================] - 0s 12ms/step - loss: 0.5722 - accuracy: 0.7236\n",
      "Epoch 39/95\n",
      "25/25 [==============================] - 0s 12ms/step - loss: 0.5759 - accuracy: 0.7223\n",
      "Epoch 40/95\n",
      "25/25 [==============================] - 0s 12ms/step - loss: 0.5726 - accuracy: 0.7207\n",
      "Epoch 41/95\n",
      "25/25 [==============================] - 0s 12ms/step - loss: 0.5715 - accuracy: 0.7249\n",
      "Epoch 42/95\n",
      "25/25 [==============================] - 0s 13ms/step - loss: 0.5710 - accuracy: 0.7204\n",
      "Epoch 43/95\n",
      "25/25 [==============================] - 0s 12ms/step - loss: 0.5692 - accuracy: 0.7274\n",
      "Epoch 44/95\n",
      "25/25 [==============================] - 0s 12ms/step - loss: 0.5732 - accuracy: 0.7178\n",
      "Epoch 45/95\n",
      "25/25 [==============================] - 0s 12ms/step - loss: 0.5615 - accuracy: 0.7194\n",
      "Epoch 46/95\n",
      "25/25 [==============================] - 0s 12ms/step - loss: 0.5735 - accuracy: 0.7194\n",
      "Epoch 47/95\n",
      "25/25 [==============================] - 0s 12ms/step - loss: 0.5681 - accuracy: 0.7194\n",
      "Epoch 48/95\n",
      "25/25 [==============================] - 0s 12ms/step - loss: 0.5676 - accuracy: 0.7258\n",
      "Epoch 49/95\n",
      "25/25 [==============================] - 0s 12ms/step - loss: 0.5557 - accuracy: 0.7297\n",
      "Epoch 50/95\n",
      "25/25 [==============================] - 0s 12ms/step - loss: 0.5608 - accuracy: 0.7284\n",
      "Epoch 51/95\n",
      "25/25 [==============================] - 0s 11ms/step - loss: 0.5543 - accuracy: 0.7316\n",
      "Epoch 52/95\n",
      "25/25 [==============================] - 0s 12ms/step - loss: 0.5523 - accuracy: 0.7348\n",
      "Epoch 53/95\n",
      "25/25 [==============================] - 0s 12ms/step - loss: 0.5549 - accuracy: 0.7287\n",
      "Epoch 54/95\n",
      "25/25 [==============================] - 0s 12ms/step - loss: 0.5531 - accuracy: 0.7261\n",
      "Epoch 55/95\n",
      "25/25 [==============================] - 0s 12ms/step - loss: 0.5586 - accuracy: 0.7201\n",
      "Epoch 56/95\n",
      "25/25 [==============================] - 0s 12ms/step - loss: 0.5485 - accuracy: 0.7354\n",
      "Epoch 57/95\n",
      "25/25 [==============================] - 0s 12ms/step - loss: 0.5414 - accuracy: 0.7319\n",
      "Epoch 58/95\n",
      "25/25 [==============================] - 0s 12ms/step - loss: 0.5416 - accuracy: 0.7386\n",
      "Epoch 59/95\n",
      "25/25 [==============================] - 0s 12ms/step - loss: 0.5460 - accuracy: 0.7255\n",
      "Epoch 60/95\n",
      "25/25 [==============================] - 0s 12ms/step - loss: 0.5416 - accuracy: 0.7335\n",
      "Epoch 61/95\n",
      "25/25 [==============================] - 0s 12ms/step - loss: 0.5402 - accuracy: 0.7357\n",
      "Epoch 62/95\n",
      "25/25 [==============================] - 0s 12ms/step - loss: 0.5312 - accuracy: 0.7434\n",
      "Epoch 63/95\n",
      "25/25 [==============================] - 0s 12ms/step - loss: 0.5318 - accuracy: 0.7486\n",
      "Epoch 64/95\n",
      "25/25 [==============================] - 0s 12ms/step - loss: 0.5338 - accuracy: 0.7380\n",
      "Epoch 65/95\n",
      "25/25 [==============================] - 0s 12ms/step - loss: 0.5280 - accuracy: 0.7479\n",
      "Epoch 66/95\n",
      "25/25 [==============================] - 0s 12ms/step - loss: 0.5376 - accuracy: 0.7402\n",
      "Epoch 67/95\n",
      "25/25 [==============================] - 0s 12ms/step - loss: 0.5191 - accuracy: 0.7463\n",
      "Epoch 68/95\n",
      "25/25 [==============================] - 0s 12ms/step - loss: 0.5174 - accuracy: 0.7434\n",
      "Epoch 69/95\n",
      "25/25 [==============================] - 0s 12ms/step - loss: 0.5220 - accuracy: 0.7466\n",
      "Epoch 70/95\n",
      "25/25 [==============================] - 0s 12ms/step - loss: 0.5131 - accuracy: 0.7550\n",
      "Epoch 71/95\n",
      "25/25 [==============================] - 0s 12ms/step - loss: 0.5125 - accuracy: 0.7479\n",
      "Epoch 72/95\n",
      "25/25 [==============================] - 0s 13ms/step - loss: 0.5097 - accuracy: 0.7556\n",
      "Epoch 73/95\n",
      "25/25 [==============================] - 0s 12ms/step - loss: 0.5047 - accuracy: 0.7518\n",
      "Epoch 74/95\n",
      "25/25 [==============================] - 0s 12ms/step - loss: 0.4940 - accuracy: 0.7681\n",
      "Epoch 75/95\n",
      "25/25 [==============================] - 0s 12ms/step - loss: 0.5008 - accuracy: 0.7559\n",
      "Epoch 76/95\n",
      "25/25 [==============================] - 0s 12ms/step - loss: 0.4967 - accuracy: 0.7569\n",
      "Epoch 77/95\n",
      "25/25 [==============================] - 0s 12ms/step - loss: 0.4886 - accuracy: 0.7694\n",
      "Epoch 78/95\n",
      "25/25 [==============================] - 0s 12ms/step - loss: 0.4887 - accuracy: 0.7591\n",
      "Epoch 79/95\n",
      "25/25 [==============================] - 0s 12ms/step - loss: 0.4849 - accuracy: 0.7694\n",
      "Epoch 80/95\n",
      "25/25 [==============================] - 0s 12ms/step - loss: 0.4829 - accuracy: 0.7783\n",
      "Epoch 81/95\n",
      "25/25 [==============================] - 0s 12ms/step - loss: 0.4712 - accuracy: 0.7771\n",
      "Epoch 82/95\n",
      "25/25 [==============================] - 0s 12ms/step - loss: 0.4807 - accuracy: 0.7819\n",
      "Epoch 83/95\n"
     ]
    },
    {
     "name": "stdout",
     "output_type": "stream",
     "text": [
      "25/25 [==============================] - 0s 12ms/step - loss: 0.4748 - accuracy: 0.7646\n",
      "Epoch 84/95\n",
      "25/25 [==============================] - 0s 13ms/step - loss: 0.4661 - accuracy: 0.7816\n",
      "Epoch 85/95\n",
      "25/25 [==============================] - 0s 12ms/step - loss: 0.4646 - accuracy: 0.7799\n",
      "Epoch 86/95\n",
      "25/25 [==============================] - 0s 12ms/step - loss: 0.4717 - accuracy: 0.7729\n",
      "Epoch 87/95\n",
      "25/25 [==============================] - 0s 13ms/step - loss: 0.4561 - accuracy: 0.7924\n",
      "Epoch 88/95\n",
      "25/25 [==============================] - 0s 13ms/step - loss: 0.4636 - accuracy: 0.7732\n",
      "Epoch 89/95\n",
      "25/25 [==============================] - 0s 12ms/step - loss: 0.4471 - accuracy: 0.7902\n",
      "Epoch 90/95\n",
      "25/25 [==============================] - 0s 12ms/step - loss: 0.4528 - accuracy: 0.7934\n",
      "Epoch 91/95\n",
      "25/25 [==============================] - 0s 12ms/step - loss: 0.4524 - accuracy: 0.7899\n",
      "Epoch 92/95\n",
      "25/25 [==============================] - 0s 12ms/step - loss: 0.4228 - accuracy: 0.8056\n",
      "Epoch 93/95\n",
      "25/25 [==============================] - 0s 12ms/step - loss: 0.4454 - accuracy: 0.7873\n",
      "Epoch 94/95\n",
      "25/25 [==============================] - 0s 12ms/step - loss: 0.4373 - accuracy: 0.7912\n",
      "Epoch 95/95\n",
      "25/25 [==============================] - 0s 12ms/step - loss: 0.4213 - accuracy: 0.8011\n"
     ]
    }
   ],
   "source": [
    "history = model.fit(X_train,y_train, batch_size=128, epochs=95)"
   ]
  },
  {
   "cell_type": "code",
   "execution_count": 422,
   "id": "098cb362",
   "metadata": {},
   "outputs": [
    {
     "name": "stdout",
     "output_type": "stream",
     "text": [
      "25/25 [==============================] - 0s 4ms/step - loss: 0.4408 - accuracy: 0.8054\n"
     ]
    },
    {
     "data": {
      "text/plain": [
       "[0.4407598376274109, 0.805377721786499]"
      ]
     },
     "execution_count": 422,
     "metadata": {},
     "output_type": "execute_result"
    }
   ],
   "source": [
    "# Evaluating the mdoel gave a loss of 0.44 and an accuracy of 0.81 on the test data \n",
    "# (when using their code). Discrepency due to lack of random seed for reproducibility.\n",
    "# This should raise flags as above shows an almost identical accuracy on their training data\n",
    "model.evaluate(X_test,y_test)"
   ]
  },
  {
   "cell_type": "code",
   "execution_count": 423,
   "id": "9ece27e1",
   "metadata": {
    "scrolled": true
   },
   "outputs": [
    {
     "name": "stdout",
     "output_type": "stream",
     "text": [
      "25/25 [==============================] - 0s 4ms/step\n",
      "accuracy: 0.8053777208706786 \n",
      "precision: 0.811965811965812 \n",
      "recall: 0.8558558558558559 \n",
      "f1 score: 0.8333333333333335\n"
     ]
    }
   ],
   "source": [
    "# This section wasn't included included in Wang & Avillach code but shows different metrics.\n",
    "y_pred = model.predict(X_test)\n",
    "y_pred = np.round(y_pred).astype(int)\n",
    "accuracy = accuracy_score(y_test,y_pred)\n",
    "precision = precision_score(y_test,y_pred)\n",
    "recall = recall_score(y_test,y_pred)\n",
    "f1 = f1_score(y_test,y_pred)\n",
    "print('accuracy:',accuracy,'\\nprecision:',precision, '\\nrecall:',recall,'\\nf1 score:',f1)"
   ]
  },
  {
   "cell_type": "code",
   "execution_count": 424,
   "id": "89c63c37",
   "metadata": {},
   "outputs": [
    {
     "name": "stdout",
     "output_type": "stream",
     "text": [
      "25/25 [==============================] - 0s 3ms/step\n",
      "DL Prediction AUC: 0.88\n"
     ]
    }
   ],
   "source": [
    "# AUC printed (0.88) is also from Wang & Avillach code (inc two errors)\n",
    "y_pred_dl = model.predict(X_test).ravel()\n",
    "fpr_dl, tpr_dl, thresholds_dl = roc_curve(y_test, y_pred_dl)\n",
    "auc_dl = auc(fpr_dl, tpr_dl)\n",
    "print('DL Prediction AUC: %1.2f' % (auc_dl))"
   ]
  },
  {
   "cell_type": "markdown",
   "id": "9084cb6c-9c5d-488d-8c74-cacce841b994",
   "metadata": {},
   "source": [
    "**Generation of Figure 2 Histogram in letter to the editor.** <br> 100 simulations show that on average 80% of the training data is in the test data using their sampling method "
   ]
  },
  {
   "cell_type": "code",
   "execution_count": 427,
   "id": "5059c91a",
   "metadata": {},
   "outputs": [
    {
     "name": "stdout",
     "output_type": "stream",
     "text": [
      "0.7995006402048656\n",
      "0.012133657416260081\n"
     ]
    }
   ],
   "source": [
    "percent = []\n",
    "for i in range(100):\n",
    "    only_snps = snp_matrix.drop(columns=['FID', 'IID', 'PAT', 'MAT'])\n",
    "    only_snps = shuffle(only_snps)\n",
    "    train_index = random.sample(range(only_snps.shape[0]), int(only_snps.shape[0]*0.80))\n",
    "    X_train = only_snps.iloc[train_index]\n",
    "    X_test = only_snps.drop(train_index)\n",
    "    overlap = len(set(X_train.index) & set(X_test.index))\n",
    "    percent.append(overlap/len(X_test))\n",
    "print(np.mean(percent))\n",
    "print(np.std(percent))"
   ]
  },
  {
   "cell_type": "code",
   "execution_count": 436,
   "id": "25b457d7",
   "metadata": {
    "collapsed": true,
    "jupyter": {
     "outputs_hidden": true
    }
   },
   "outputs": [
    {
     "data": {
      "application/vnd.plotly.v1+json": {
       "config": {
        "plotlyServerURL": "https://plot.ly"
       },
       "data": [
        {
         "alignmentgroup": "True",
         "bingroup": "x",
         "hovertemplate": "variable=0<br>Proportion of test dataset in training dataset=%{x}<br>count=%{y}<extra></extra>",
         "legendgroup": "0",
         "marker": {
          "color": "#636efa",
          "pattern": {
           "shape": ""
          }
         },
         "name": "0",
         "nbinsx": 10,
         "offsetgroup": "0",
         "orientation": "v",
         "showlegend": true,
         "type": "histogram",
         "x": [
          0.8194622279129321,
          0.8015364916773368,
          0.795134443021767,
          0.8015364916773368,
          0.8207426376440461,
          0.7900128040973111,
          0.8015364916773368,
          0.7759282970550576,
          0.8040973111395646,
          0.8169014084507042,
          0.7964148527528809,
          0.8053777208706786,
          0.7925736235595391,
          0.7861715749039693,
          0.7925736235595391,
          0.8015364916773368,
          0.7848911651728553,
          0.7887323943661971,
          0.7912932138284251,
          0.8040973111395646,
          0.7848911651728553,
          0.7772087067861716,
          0.8002560819462228,
          0.8002560819462228,
          0.7797695262483995,
          0.8092189500640204,
          0.7797695262483995,
          0.7887323943661971,
          0.8002560819462228,
          0.8130601792573624,
          0.8194622279129321,
          0.795134443021767,
          0.8130601792573624,
          0.8271446862996159,
          0.8079385403329066,
          0.7989756722151088,
          0.795134443021767,
          0.7900128040973111,
          0.8233034571062741,
          0.795134443021767,
          0.8169014084507042,
          0.8066581306017926,
          0.8015364916773368,
          0.795134443021767,
          0.7925736235595391,
          0.8053777208706786,
          0.7976952624839949,
          0.8194622279129321,
          0.7976952624839949,
          0.7887323943661971,
          0.8143405889884763,
          0.8002560819462228,
          0.8053777208706786,
          0.7976952624839949,
          0.7797695262483995,
          0.8053777208706786,
          0.7989756722151088,
          0.7964148527528809,
          0.8194622279129321,
          0.7887323943661971,
          0.8053777208706786,
          0.7900128040973111,
          0.7976952624839949,
          0.795134443021767,
          0.8092189500640204,
          0.8130601792573624,
          0.7976952624839949,
          0.8130601792573624,
          0.7900128040973111,
          0.8002560819462228,
          0.7772087067861716,
          0.8130601792573624,
          0.7797695262483995,
          0.8015364916773368,
          0.7810499359795134,
          0.7810499359795134,
          0.795134443021767,
          0.7810499359795134,
          0.8130601792573624,
          0.7759282970550576,
          0.8169014084507042,
          0.7861715749039693,
          0.7989756722151088,
          0.8002560819462228,
          0.8156209987195903,
          0.7964148527528809,
          0.8028169014084507,
          0.8092189500640204,
          0.7964148527528809,
          0.8104993597951344,
          0.8169014084507042,
          0.8104993597951344,
          0.7874519846350833,
          0.7925736235595391,
          0.8053777208706786,
          0.8066581306017926,
          0.7887323943661971,
          0.7823303457106274,
          0.8156209987195903,
          0.8028169014084507
         ],
         "xaxis": "x",
         "yaxis": "y"
        }
       ],
       "layout": {
        "barmode": "relative",
        "legend": {
         "title": {
          "text": "variable"
         },
         "tracegroupgap": 0
        },
        "margin": {
         "t": 60
        },
        "template": {
         "data": {
          "bar": [
           {
            "error_x": {
             "color": "#2a3f5f"
            },
            "error_y": {
             "color": "#2a3f5f"
            },
            "marker": {
             "line": {
              "color": "#E5ECF6",
              "width": 0.5
             },
             "pattern": {
              "fillmode": "overlay",
              "size": 10,
              "solidity": 0.2
             }
            },
            "type": "bar"
           }
          ],
          "barpolar": [
           {
            "marker": {
             "line": {
              "color": "#E5ECF6",
              "width": 0.5
             },
             "pattern": {
              "fillmode": "overlay",
              "size": 10,
              "solidity": 0.2
             }
            },
            "type": "barpolar"
           }
          ],
          "carpet": [
           {
            "aaxis": {
             "endlinecolor": "#2a3f5f",
             "gridcolor": "white",
             "linecolor": "white",
             "minorgridcolor": "white",
             "startlinecolor": "#2a3f5f"
            },
            "baxis": {
             "endlinecolor": "#2a3f5f",
             "gridcolor": "white",
             "linecolor": "white",
             "minorgridcolor": "white",
             "startlinecolor": "#2a3f5f"
            },
            "type": "carpet"
           }
          ],
          "choropleth": [
           {
            "colorbar": {
             "outlinewidth": 0,
             "ticks": ""
            },
            "type": "choropleth"
           }
          ],
          "contour": [
           {
            "colorbar": {
             "outlinewidth": 0,
             "ticks": ""
            },
            "colorscale": [
             [
              0,
              "#0d0887"
             ],
             [
              0.1111111111111111,
              "#46039f"
             ],
             [
              0.2222222222222222,
              "#7201a8"
             ],
             [
              0.3333333333333333,
              "#9c179e"
             ],
             [
              0.4444444444444444,
              "#bd3786"
             ],
             [
              0.5555555555555556,
              "#d8576b"
             ],
             [
              0.6666666666666666,
              "#ed7953"
             ],
             [
              0.7777777777777778,
              "#fb9f3a"
             ],
             [
              0.8888888888888888,
              "#fdca26"
             ],
             [
              1,
              "#f0f921"
             ]
            ],
            "type": "contour"
           }
          ],
          "contourcarpet": [
           {
            "colorbar": {
             "outlinewidth": 0,
             "ticks": ""
            },
            "type": "contourcarpet"
           }
          ],
          "heatmap": [
           {
            "colorbar": {
             "outlinewidth": 0,
             "ticks": ""
            },
            "colorscale": [
             [
              0,
              "#0d0887"
             ],
             [
              0.1111111111111111,
              "#46039f"
             ],
             [
              0.2222222222222222,
              "#7201a8"
             ],
             [
              0.3333333333333333,
              "#9c179e"
             ],
             [
              0.4444444444444444,
              "#bd3786"
             ],
             [
              0.5555555555555556,
              "#d8576b"
             ],
             [
              0.6666666666666666,
              "#ed7953"
             ],
             [
              0.7777777777777778,
              "#fb9f3a"
             ],
             [
              0.8888888888888888,
              "#fdca26"
             ],
             [
              1,
              "#f0f921"
             ]
            ],
            "type": "heatmap"
           }
          ],
          "heatmapgl": [
           {
            "colorbar": {
             "outlinewidth": 0,
             "ticks": ""
            },
            "colorscale": [
             [
              0,
              "#0d0887"
             ],
             [
              0.1111111111111111,
              "#46039f"
             ],
             [
              0.2222222222222222,
              "#7201a8"
             ],
             [
              0.3333333333333333,
              "#9c179e"
             ],
             [
              0.4444444444444444,
              "#bd3786"
             ],
             [
              0.5555555555555556,
              "#d8576b"
             ],
             [
              0.6666666666666666,
              "#ed7953"
             ],
             [
              0.7777777777777778,
              "#fb9f3a"
             ],
             [
              0.8888888888888888,
              "#fdca26"
             ],
             [
              1,
              "#f0f921"
             ]
            ],
            "type": "heatmapgl"
           }
          ],
          "histogram": [
           {
            "marker": {
             "pattern": {
              "fillmode": "overlay",
              "size": 10,
              "solidity": 0.2
             }
            },
            "type": "histogram"
           }
          ],
          "histogram2d": [
           {
            "colorbar": {
             "outlinewidth": 0,
             "ticks": ""
            },
            "colorscale": [
             [
              0,
              "#0d0887"
             ],
             [
              0.1111111111111111,
              "#46039f"
             ],
             [
              0.2222222222222222,
              "#7201a8"
             ],
             [
              0.3333333333333333,
              "#9c179e"
             ],
             [
              0.4444444444444444,
              "#bd3786"
             ],
             [
              0.5555555555555556,
              "#d8576b"
             ],
             [
              0.6666666666666666,
              "#ed7953"
             ],
             [
              0.7777777777777778,
              "#fb9f3a"
             ],
             [
              0.8888888888888888,
              "#fdca26"
             ],
             [
              1,
              "#f0f921"
             ]
            ],
            "type": "histogram2d"
           }
          ],
          "histogram2dcontour": [
           {
            "colorbar": {
             "outlinewidth": 0,
             "ticks": ""
            },
            "colorscale": [
             [
              0,
              "#0d0887"
             ],
             [
              0.1111111111111111,
              "#46039f"
             ],
             [
              0.2222222222222222,
              "#7201a8"
             ],
             [
              0.3333333333333333,
              "#9c179e"
             ],
             [
              0.4444444444444444,
              "#bd3786"
             ],
             [
              0.5555555555555556,
              "#d8576b"
             ],
             [
              0.6666666666666666,
              "#ed7953"
             ],
             [
              0.7777777777777778,
              "#fb9f3a"
             ],
             [
              0.8888888888888888,
              "#fdca26"
             ],
             [
              1,
              "#f0f921"
             ]
            ],
            "type": "histogram2dcontour"
           }
          ],
          "mesh3d": [
           {
            "colorbar": {
             "outlinewidth": 0,
             "ticks": ""
            },
            "type": "mesh3d"
           }
          ],
          "parcoords": [
           {
            "line": {
             "colorbar": {
              "outlinewidth": 0,
              "ticks": ""
             }
            },
            "type": "parcoords"
           }
          ],
          "pie": [
           {
            "automargin": true,
            "type": "pie"
           }
          ],
          "scatter": [
           {
            "fillpattern": {
             "fillmode": "overlay",
             "size": 10,
             "solidity": 0.2
            },
            "type": "scatter"
           }
          ],
          "scatter3d": [
           {
            "line": {
             "colorbar": {
              "outlinewidth": 0,
              "ticks": ""
             }
            },
            "marker": {
             "colorbar": {
              "outlinewidth": 0,
              "ticks": ""
             }
            },
            "type": "scatter3d"
           }
          ],
          "scattercarpet": [
           {
            "marker": {
             "colorbar": {
              "outlinewidth": 0,
              "ticks": ""
             }
            },
            "type": "scattercarpet"
           }
          ],
          "scattergeo": [
           {
            "marker": {
             "colorbar": {
              "outlinewidth": 0,
              "ticks": ""
             }
            },
            "type": "scattergeo"
           }
          ],
          "scattergl": [
           {
            "marker": {
             "colorbar": {
              "outlinewidth": 0,
              "ticks": ""
             }
            },
            "type": "scattergl"
           }
          ],
          "scattermapbox": [
           {
            "marker": {
             "colorbar": {
              "outlinewidth": 0,
              "ticks": ""
             }
            },
            "type": "scattermapbox"
           }
          ],
          "scatterpolar": [
           {
            "marker": {
             "colorbar": {
              "outlinewidth": 0,
              "ticks": ""
             }
            },
            "type": "scatterpolar"
           }
          ],
          "scatterpolargl": [
           {
            "marker": {
             "colorbar": {
              "outlinewidth": 0,
              "ticks": ""
             }
            },
            "type": "scatterpolargl"
           }
          ],
          "scatterternary": [
           {
            "marker": {
             "colorbar": {
              "outlinewidth": 0,
              "ticks": ""
             }
            },
            "type": "scatterternary"
           }
          ],
          "surface": [
           {
            "colorbar": {
             "outlinewidth": 0,
             "ticks": ""
            },
            "colorscale": [
             [
              0,
              "#0d0887"
             ],
             [
              0.1111111111111111,
              "#46039f"
             ],
             [
              0.2222222222222222,
              "#7201a8"
             ],
             [
              0.3333333333333333,
              "#9c179e"
             ],
             [
              0.4444444444444444,
              "#bd3786"
             ],
             [
              0.5555555555555556,
              "#d8576b"
             ],
             [
              0.6666666666666666,
              "#ed7953"
             ],
             [
              0.7777777777777778,
              "#fb9f3a"
             ],
             [
              0.8888888888888888,
              "#fdca26"
             ],
             [
              1,
              "#f0f921"
             ]
            ],
            "type": "surface"
           }
          ],
          "table": [
           {
            "cells": {
             "fill": {
              "color": "#EBF0F8"
             },
             "line": {
              "color": "white"
             }
            },
            "header": {
             "fill": {
              "color": "#C8D4E3"
             },
             "line": {
              "color": "white"
             }
            },
            "type": "table"
           }
          ]
         },
         "layout": {
          "annotationdefaults": {
           "arrowcolor": "#2a3f5f",
           "arrowhead": 0,
           "arrowwidth": 1
          },
          "autotypenumbers": "strict",
          "coloraxis": {
           "colorbar": {
            "outlinewidth": 0,
            "ticks": ""
           }
          },
          "colorscale": {
           "diverging": [
            [
             0,
             "#8e0152"
            ],
            [
             0.1,
             "#c51b7d"
            ],
            [
             0.2,
             "#de77ae"
            ],
            [
             0.3,
             "#f1b6da"
            ],
            [
             0.4,
             "#fde0ef"
            ],
            [
             0.5,
             "#f7f7f7"
            ],
            [
             0.6,
             "#e6f5d0"
            ],
            [
             0.7,
             "#b8e186"
            ],
            [
             0.8,
             "#7fbc41"
            ],
            [
             0.9,
             "#4d9221"
            ],
            [
             1,
             "#276419"
            ]
           ],
           "sequential": [
            [
             0,
             "#0d0887"
            ],
            [
             0.1111111111111111,
             "#46039f"
            ],
            [
             0.2222222222222222,
             "#7201a8"
            ],
            [
             0.3333333333333333,
             "#9c179e"
            ],
            [
             0.4444444444444444,
             "#bd3786"
            ],
            [
             0.5555555555555556,
             "#d8576b"
            ],
            [
             0.6666666666666666,
             "#ed7953"
            ],
            [
             0.7777777777777778,
             "#fb9f3a"
            ],
            [
             0.8888888888888888,
             "#fdca26"
            ],
            [
             1,
             "#f0f921"
            ]
           ],
           "sequentialminus": [
            [
             0,
             "#0d0887"
            ],
            [
             0.1111111111111111,
             "#46039f"
            ],
            [
             0.2222222222222222,
             "#7201a8"
            ],
            [
             0.3333333333333333,
             "#9c179e"
            ],
            [
             0.4444444444444444,
             "#bd3786"
            ],
            [
             0.5555555555555556,
             "#d8576b"
            ],
            [
             0.6666666666666666,
             "#ed7953"
            ],
            [
             0.7777777777777778,
             "#fb9f3a"
            ],
            [
             0.8888888888888888,
             "#fdca26"
            ],
            [
             1,
             "#f0f921"
            ]
           ]
          },
          "colorway": [
           "#636efa",
           "#EF553B",
           "#00cc96",
           "#ab63fa",
           "#FFA15A",
           "#19d3f3",
           "#FF6692",
           "#B6E880",
           "#FF97FF",
           "#FECB52"
          ],
          "font": {
           "color": "#2a3f5f"
          },
          "geo": {
           "bgcolor": "white",
           "lakecolor": "white",
           "landcolor": "#E5ECF6",
           "showlakes": true,
           "showland": true,
           "subunitcolor": "white"
          },
          "hoverlabel": {
           "align": "left"
          },
          "hovermode": "closest",
          "mapbox": {
           "style": "light"
          },
          "paper_bgcolor": "white",
          "plot_bgcolor": "#E5ECF6",
          "polar": {
           "angularaxis": {
            "gridcolor": "white",
            "linecolor": "white",
            "ticks": ""
           },
           "bgcolor": "#E5ECF6",
           "radialaxis": {
            "gridcolor": "white",
            "linecolor": "white",
            "ticks": ""
           }
          },
          "scene": {
           "xaxis": {
            "backgroundcolor": "#E5ECF6",
            "gridcolor": "white",
            "gridwidth": 2,
            "linecolor": "white",
            "showbackground": true,
            "ticks": "",
            "zerolinecolor": "white"
           },
           "yaxis": {
            "backgroundcolor": "#E5ECF6",
            "gridcolor": "white",
            "gridwidth": 2,
            "linecolor": "white",
            "showbackground": true,
            "ticks": "",
            "zerolinecolor": "white"
           },
           "zaxis": {
            "backgroundcolor": "#E5ECF6",
            "gridcolor": "white",
            "gridwidth": 2,
            "linecolor": "white",
            "showbackground": true,
            "ticks": "",
            "zerolinecolor": "white"
           }
          },
          "shapedefaults": {
           "line": {
            "color": "#2a3f5f"
           }
          },
          "ternary": {
           "aaxis": {
            "gridcolor": "white",
            "linecolor": "white",
            "ticks": ""
           },
           "baxis": {
            "gridcolor": "white",
            "linecolor": "white",
            "ticks": ""
           },
           "bgcolor": "#E5ECF6",
           "caxis": {
            "gridcolor": "white",
            "linecolor": "white",
            "ticks": ""
           }
          },
          "title": {
           "x": 0.05
          },
          "xaxis": {
           "automargin": true,
           "gridcolor": "white",
           "linecolor": "white",
           "ticks": "",
           "title": {
            "standoff": 15
           },
           "zerolinecolor": "white",
           "zerolinewidth": 2
          },
          "yaxis": {
           "automargin": true,
           "gridcolor": "white",
           "linecolor": "white",
           "ticks": "",
           "title": {
            "standoff": 15
           },
           "zerolinecolor": "white",
           "zerolinewidth": 2
          }
         }
        },
        "xaxis": {
         "anchor": "y",
         "domain": [
          0,
          1
         ],
         "title": {
          "text": "Proportion of test dataset in training dataset"
         }
        },
        "yaxis": {
         "anchor": "x",
         "domain": [
          0,
          1
         ],
         "title": {
          "text": "count"
         }
        }
       }
      },
      "text/html": [
       "<div>                            <div id=\"02865ba5-8648-481e-b91f-d38a03f96d88\" class=\"plotly-graph-div\" style=\"height:525px; width:100%;\"></div>            <script type=\"text/javascript\">                require([\"plotly\"], function(Plotly) {                    window.PLOTLYENV=window.PLOTLYENV || {};                                    if (document.getElementById(\"02865ba5-8648-481e-b91f-d38a03f96d88\")) {                    Plotly.newPlot(                        \"02865ba5-8648-481e-b91f-d38a03f96d88\",                        [{\"alignmentgroup\":\"True\",\"bingroup\":\"x\",\"hovertemplate\":\"variable=0\\u003cbr\\u003eProportion of test dataset in training dataset=%{x}\\u003cbr\\u003ecount=%{y}\\u003cextra\\u003e\\u003c\\u002fextra\\u003e\",\"legendgroup\":\"0\",\"marker\":{\"color\":\"#636efa\",\"pattern\":{\"shape\":\"\"}},\"name\":\"0\",\"nbinsx\":10,\"offsetgroup\":\"0\",\"orientation\":\"v\",\"showlegend\":true,\"x\":[0.8194622279129321,0.8015364916773368,0.795134443021767,0.8015364916773368,0.8207426376440461,0.7900128040973111,0.8015364916773368,0.7759282970550576,0.8040973111395646,0.8169014084507042,0.7964148527528809,0.8053777208706786,0.7925736235595391,0.7861715749039693,0.7925736235595391,0.8015364916773368,0.7848911651728553,0.7887323943661971,0.7912932138284251,0.8040973111395646,0.7848911651728553,0.7772087067861716,0.8002560819462228,0.8002560819462228,0.7797695262483995,0.8092189500640204,0.7797695262483995,0.7887323943661971,0.8002560819462228,0.8130601792573624,0.8194622279129321,0.795134443021767,0.8130601792573624,0.8271446862996159,0.8079385403329066,0.7989756722151088,0.795134443021767,0.7900128040973111,0.8233034571062741,0.795134443021767,0.8169014084507042,0.8066581306017926,0.8015364916773368,0.795134443021767,0.7925736235595391,0.8053777208706786,0.7976952624839949,0.8194622279129321,0.7976952624839949,0.7887323943661971,0.8143405889884763,0.8002560819462228,0.8053777208706786,0.7976952624839949,0.7797695262483995,0.8053777208706786,0.7989756722151088,0.7964148527528809,0.8194622279129321,0.7887323943661971,0.8053777208706786,0.7900128040973111,0.7976952624839949,0.795134443021767,0.8092189500640204,0.8130601792573624,0.7976952624839949,0.8130601792573624,0.7900128040973111,0.8002560819462228,0.7772087067861716,0.8130601792573624,0.7797695262483995,0.8015364916773368,0.7810499359795134,0.7810499359795134,0.795134443021767,0.7810499359795134,0.8130601792573624,0.7759282970550576,0.8169014084507042,0.7861715749039693,0.7989756722151088,0.8002560819462228,0.8156209987195903,0.7964148527528809,0.8028169014084507,0.8092189500640204,0.7964148527528809,0.8104993597951344,0.8169014084507042,0.8104993597951344,0.7874519846350833,0.7925736235595391,0.8053777208706786,0.8066581306017926,0.7887323943661971,0.7823303457106274,0.8156209987195903,0.8028169014084507],\"xaxis\":\"x\",\"yaxis\":\"y\",\"type\":\"histogram\"}],                        {\"template\":{\"data\":{\"histogram2dcontour\":[{\"type\":\"histogram2dcontour\",\"colorbar\":{\"outlinewidth\":0,\"ticks\":\"\"},\"colorscale\":[[0.0,\"#0d0887\"],[0.1111111111111111,\"#46039f\"],[0.2222222222222222,\"#7201a8\"],[0.3333333333333333,\"#9c179e\"],[0.4444444444444444,\"#bd3786\"],[0.5555555555555556,\"#d8576b\"],[0.6666666666666666,\"#ed7953\"],[0.7777777777777778,\"#fb9f3a\"],[0.8888888888888888,\"#fdca26\"],[1.0,\"#f0f921\"]]}],\"choropleth\":[{\"type\":\"choropleth\",\"colorbar\":{\"outlinewidth\":0,\"ticks\":\"\"}}],\"histogram2d\":[{\"type\":\"histogram2d\",\"colorbar\":{\"outlinewidth\":0,\"ticks\":\"\"},\"colorscale\":[[0.0,\"#0d0887\"],[0.1111111111111111,\"#46039f\"],[0.2222222222222222,\"#7201a8\"],[0.3333333333333333,\"#9c179e\"],[0.4444444444444444,\"#bd3786\"],[0.5555555555555556,\"#d8576b\"],[0.6666666666666666,\"#ed7953\"],[0.7777777777777778,\"#fb9f3a\"],[0.8888888888888888,\"#fdca26\"],[1.0,\"#f0f921\"]]}],\"heatmap\":[{\"type\":\"heatmap\",\"colorbar\":{\"outlinewidth\":0,\"ticks\":\"\"},\"colorscale\":[[0.0,\"#0d0887\"],[0.1111111111111111,\"#46039f\"],[0.2222222222222222,\"#7201a8\"],[0.3333333333333333,\"#9c179e\"],[0.4444444444444444,\"#bd3786\"],[0.5555555555555556,\"#d8576b\"],[0.6666666666666666,\"#ed7953\"],[0.7777777777777778,\"#fb9f3a\"],[0.8888888888888888,\"#fdca26\"],[1.0,\"#f0f921\"]]}],\"heatmapgl\":[{\"type\":\"heatmapgl\",\"colorbar\":{\"outlinewidth\":0,\"ticks\":\"\"},\"colorscale\":[[0.0,\"#0d0887\"],[0.1111111111111111,\"#46039f\"],[0.2222222222222222,\"#7201a8\"],[0.3333333333333333,\"#9c179e\"],[0.4444444444444444,\"#bd3786\"],[0.5555555555555556,\"#d8576b\"],[0.6666666666666666,\"#ed7953\"],[0.7777777777777778,\"#fb9f3a\"],[0.8888888888888888,\"#fdca26\"],[1.0,\"#f0f921\"]]}],\"contourcarpet\":[{\"type\":\"contourcarpet\",\"colorbar\":{\"outlinewidth\":0,\"ticks\":\"\"}}],\"contour\":[{\"type\":\"contour\",\"colorbar\":{\"outlinewidth\":0,\"ticks\":\"\"},\"colorscale\":[[0.0,\"#0d0887\"],[0.1111111111111111,\"#46039f\"],[0.2222222222222222,\"#7201a8\"],[0.3333333333333333,\"#9c179e\"],[0.4444444444444444,\"#bd3786\"],[0.5555555555555556,\"#d8576b\"],[0.6666666666666666,\"#ed7953\"],[0.7777777777777778,\"#fb9f3a\"],[0.8888888888888888,\"#fdca26\"],[1.0,\"#f0f921\"]]}],\"surface\":[{\"type\":\"surface\",\"colorbar\":{\"outlinewidth\":0,\"ticks\":\"\"},\"colorscale\":[[0.0,\"#0d0887\"],[0.1111111111111111,\"#46039f\"],[0.2222222222222222,\"#7201a8\"],[0.3333333333333333,\"#9c179e\"],[0.4444444444444444,\"#bd3786\"],[0.5555555555555556,\"#d8576b\"],[0.6666666666666666,\"#ed7953\"],[0.7777777777777778,\"#fb9f3a\"],[0.8888888888888888,\"#fdca26\"],[1.0,\"#f0f921\"]]}],\"mesh3d\":[{\"type\":\"mesh3d\",\"colorbar\":{\"outlinewidth\":0,\"ticks\":\"\"}}],\"scatter\":[{\"fillpattern\":{\"fillmode\":\"overlay\",\"size\":10,\"solidity\":0.2},\"type\":\"scatter\"}],\"parcoords\":[{\"type\":\"parcoords\",\"line\":{\"colorbar\":{\"outlinewidth\":0,\"ticks\":\"\"}}}],\"scatterpolargl\":[{\"type\":\"scatterpolargl\",\"marker\":{\"colorbar\":{\"outlinewidth\":0,\"ticks\":\"\"}}}],\"bar\":[{\"error_x\":{\"color\":\"#2a3f5f\"},\"error_y\":{\"color\":\"#2a3f5f\"},\"marker\":{\"line\":{\"color\":\"#E5ECF6\",\"width\":0.5},\"pattern\":{\"fillmode\":\"overlay\",\"size\":10,\"solidity\":0.2}},\"type\":\"bar\"}],\"scattergeo\":[{\"type\":\"scattergeo\",\"marker\":{\"colorbar\":{\"outlinewidth\":0,\"ticks\":\"\"}}}],\"scatterpolar\":[{\"type\":\"scatterpolar\",\"marker\":{\"colorbar\":{\"outlinewidth\":0,\"ticks\":\"\"}}}],\"histogram\":[{\"marker\":{\"pattern\":{\"fillmode\":\"overlay\",\"size\":10,\"solidity\":0.2}},\"type\":\"histogram\"}],\"scattergl\":[{\"type\":\"scattergl\",\"marker\":{\"colorbar\":{\"outlinewidth\":0,\"ticks\":\"\"}}}],\"scatter3d\":[{\"type\":\"scatter3d\",\"line\":{\"colorbar\":{\"outlinewidth\":0,\"ticks\":\"\"}},\"marker\":{\"colorbar\":{\"outlinewidth\":0,\"ticks\":\"\"}}}],\"scattermapbox\":[{\"type\":\"scattermapbox\",\"marker\":{\"colorbar\":{\"outlinewidth\":0,\"ticks\":\"\"}}}],\"scatterternary\":[{\"type\":\"scatterternary\",\"marker\":{\"colorbar\":{\"outlinewidth\":0,\"ticks\":\"\"}}}],\"scattercarpet\":[{\"type\":\"scattercarpet\",\"marker\":{\"colorbar\":{\"outlinewidth\":0,\"ticks\":\"\"}}}],\"carpet\":[{\"aaxis\":{\"endlinecolor\":\"#2a3f5f\",\"gridcolor\":\"white\",\"linecolor\":\"white\",\"minorgridcolor\":\"white\",\"startlinecolor\":\"#2a3f5f\"},\"baxis\":{\"endlinecolor\":\"#2a3f5f\",\"gridcolor\":\"white\",\"linecolor\":\"white\",\"minorgridcolor\":\"white\",\"startlinecolor\":\"#2a3f5f\"},\"type\":\"carpet\"}],\"table\":[{\"cells\":{\"fill\":{\"color\":\"#EBF0F8\"},\"line\":{\"color\":\"white\"}},\"header\":{\"fill\":{\"color\":\"#C8D4E3\"},\"line\":{\"color\":\"white\"}},\"type\":\"table\"}],\"barpolar\":[{\"marker\":{\"line\":{\"color\":\"#E5ECF6\",\"width\":0.5},\"pattern\":{\"fillmode\":\"overlay\",\"size\":10,\"solidity\":0.2}},\"type\":\"barpolar\"}],\"pie\":[{\"automargin\":true,\"type\":\"pie\"}]},\"layout\":{\"autotypenumbers\":\"strict\",\"colorway\":[\"#636efa\",\"#EF553B\",\"#00cc96\",\"#ab63fa\",\"#FFA15A\",\"#19d3f3\",\"#FF6692\",\"#B6E880\",\"#FF97FF\",\"#FECB52\"],\"font\":{\"color\":\"#2a3f5f\"},\"hovermode\":\"closest\",\"hoverlabel\":{\"align\":\"left\"},\"paper_bgcolor\":\"white\",\"plot_bgcolor\":\"#E5ECF6\",\"polar\":{\"bgcolor\":\"#E5ECF6\",\"angularaxis\":{\"gridcolor\":\"white\",\"linecolor\":\"white\",\"ticks\":\"\"},\"radialaxis\":{\"gridcolor\":\"white\",\"linecolor\":\"white\",\"ticks\":\"\"}},\"ternary\":{\"bgcolor\":\"#E5ECF6\",\"aaxis\":{\"gridcolor\":\"white\",\"linecolor\":\"white\",\"ticks\":\"\"},\"baxis\":{\"gridcolor\":\"white\",\"linecolor\":\"white\",\"ticks\":\"\"},\"caxis\":{\"gridcolor\":\"white\",\"linecolor\":\"white\",\"ticks\":\"\"}},\"coloraxis\":{\"colorbar\":{\"outlinewidth\":0,\"ticks\":\"\"}},\"colorscale\":{\"sequential\":[[0.0,\"#0d0887\"],[0.1111111111111111,\"#46039f\"],[0.2222222222222222,\"#7201a8\"],[0.3333333333333333,\"#9c179e\"],[0.4444444444444444,\"#bd3786\"],[0.5555555555555556,\"#d8576b\"],[0.6666666666666666,\"#ed7953\"],[0.7777777777777778,\"#fb9f3a\"],[0.8888888888888888,\"#fdca26\"],[1.0,\"#f0f921\"]],\"sequentialminus\":[[0.0,\"#0d0887\"],[0.1111111111111111,\"#46039f\"],[0.2222222222222222,\"#7201a8\"],[0.3333333333333333,\"#9c179e\"],[0.4444444444444444,\"#bd3786\"],[0.5555555555555556,\"#d8576b\"],[0.6666666666666666,\"#ed7953\"],[0.7777777777777778,\"#fb9f3a\"],[0.8888888888888888,\"#fdca26\"],[1.0,\"#f0f921\"]],\"diverging\":[[0,\"#8e0152\"],[0.1,\"#c51b7d\"],[0.2,\"#de77ae\"],[0.3,\"#f1b6da\"],[0.4,\"#fde0ef\"],[0.5,\"#f7f7f7\"],[0.6,\"#e6f5d0\"],[0.7,\"#b8e186\"],[0.8,\"#7fbc41\"],[0.9,\"#4d9221\"],[1,\"#276419\"]]},\"xaxis\":{\"gridcolor\":\"white\",\"linecolor\":\"white\",\"ticks\":\"\",\"title\":{\"standoff\":15},\"zerolinecolor\":\"white\",\"automargin\":true,\"zerolinewidth\":2},\"yaxis\":{\"gridcolor\":\"white\",\"linecolor\":\"white\",\"ticks\":\"\",\"title\":{\"standoff\":15},\"zerolinecolor\":\"white\",\"automargin\":true,\"zerolinewidth\":2},\"scene\":{\"xaxis\":{\"backgroundcolor\":\"#E5ECF6\",\"gridcolor\":\"white\",\"linecolor\":\"white\",\"showbackground\":true,\"ticks\":\"\",\"zerolinecolor\":\"white\",\"gridwidth\":2},\"yaxis\":{\"backgroundcolor\":\"#E5ECF6\",\"gridcolor\":\"white\",\"linecolor\":\"white\",\"showbackground\":true,\"ticks\":\"\",\"zerolinecolor\":\"white\",\"gridwidth\":2},\"zaxis\":{\"backgroundcolor\":\"#E5ECF6\",\"gridcolor\":\"white\",\"linecolor\":\"white\",\"showbackground\":true,\"ticks\":\"\",\"zerolinecolor\":\"white\",\"gridwidth\":2}},\"shapedefaults\":{\"line\":{\"color\":\"#2a3f5f\"}},\"annotationdefaults\":{\"arrowcolor\":\"#2a3f5f\",\"arrowhead\":0,\"arrowwidth\":1},\"geo\":{\"bgcolor\":\"white\",\"landcolor\":\"#E5ECF6\",\"subunitcolor\":\"white\",\"showland\":true,\"showlakes\":true,\"lakecolor\":\"white\"},\"title\":{\"x\":0.05},\"mapbox\":{\"style\":\"light\"}}},\"xaxis\":{\"anchor\":\"y\",\"domain\":[0.0,1.0],\"title\":{\"text\":\"Proportion of test dataset in training dataset\"}},\"yaxis\":{\"anchor\":\"x\",\"domain\":[0.0,1.0],\"title\":{\"text\":\"count\"}},\"legend\":{\"title\":{\"text\":\"variable\"},\"tracegroupgap\":0},\"margin\":{\"t\":60},\"barmode\":\"relative\"},                        {\"responsive\": true}                    ).then(function(){\n",
       "                            \n",
       "var gd = document.getElementById('02865ba5-8648-481e-b91f-d38a03f96d88');\n",
       "var x = new MutationObserver(function (mutations, observer) {{\n",
       "        var display = window.getComputedStyle(gd).display;\n",
       "        if (!display || display === 'none') {{\n",
       "            console.log([gd, 'removed!']);\n",
       "            Plotly.purge(gd);\n",
       "            observer.disconnect();\n",
       "        }}\n",
       "}});\n",
       "\n",
       "// Listen for the removal of the full notebook cells\n",
       "var notebookContainer = gd.closest('#notebook-container');\n",
       "if (notebookContainer) {{\n",
       "    x.observe(notebookContainer, {childList: true});\n",
       "}}\n",
       "\n",
       "// Listen for the clearing of the current output cell\n",
       "var outputEl = gd.closest('.output');\n",
       "if (outputEl) {{\n",
       "    x.observe(outputEl, {childList: true});\n",
       "}}\n",
       "\n",
       "                        })                };                });            </script>        </div>"
      ]
     },
     "metadata": {},
     "output_type": "display_data"
    }
   ],
   "source": [
    "fig = px.histogram(percent, nbins=10, labels={'value': 'Proportion of test dataset in training dataset'})\n",
    "fig.show()"
   ]
  },
  {
   "cell_type": "markdown",
   "id": "91de5b51-cd33-43e5-874f-5e663bec4b6e",
   "metadata": {},
   "source": [
    "**Example of how Wang & Avillach's code misasigns genotypes. Function vcfgt copied from their github.** This makes up figure 1 in letter to editor"
   ]
  },
  {
   "cell_type": "code",
   "execution_count": 396,
   "id": "b558bd52",
   "metadata": {},
   "outputs": [
    {
     "name": "stdout",
     "output_type": "stream",
     "text": [
      "  genotype  vcfgt_result  expected_result\n",
      "0      0/0             1                0\n",
      "1      0/1             1                1\n",
      "2      1/1             2                2\n",
      "3      0/0             1                0\n",
      "4      1/0             1                1\n",
      "0      NaN             0                0\n"
     ]
    }
   ],
   "source": [
    "data = {'genotype': ['0/0', '0/1', '1/1', '0/0', '1/0']}\n",
    "df = pd.DataFrame(data)\n",
    "\n",
    "def vcfgt(x):\n",
    "    output = 1\n",
    "    flag = False\n",
    "    x = str(x).split('/')\n",
    "    if int(x[0]) > 0 and int(x[1]) > 0:\n",
    "        flag = True \n",
    "    if flag:\n",
    "        output = 2\n",
    "    return output\n",
    "\n",
    "# Apply the function to the 'genotype' column\n",
    "df['vcfgt_result'] = df['genotype'].apply(vcfgt)\n",
    "df = pd.concat([df,pd.DataFrame({'genotype': [np.nan], 'vcfgt_result': [0]})])\n",
    "df['expected_result'] = [0,1,2,0,1,0]\n",
    "print(df)"
   ]
  },
  {
   "cell_type": "markdown",
   "id": "0fad4179-92a5-482d-a528-bad6997b4fd9",
   "metadata": {},
   "source": [
    "**100 Simulations of the fixed code shows average accuracy of 0.6**"
   ]
  },
  {
   "cell_type": "code",
   "execution_count": 440,
   "id": "54f19168",
   "metadata": {},
   "outputs": [
    {
     "name": "stdout",
     "output_type": "stream",
     "text": [
      "25/25 [==============================] - 0s 3ms/step\n",
      "25/25 [==============================] - 0s 3ms/step\n",
      "25/25 [==============================] - 0s 3ms/step\n",
      "25/25 [==============================] - 0s 3ms/step\n",
      "25/25 [==============================] - 0s 3ms/step\n",
      "25/25 [==============================] - 0s 3ms/step\n",
      "25/25 [==============================] - 0s 3ms/step\n",
      "25/25 [==============================] - 0s 3ms/step\n",
      "25/25 [==============================] - 0s 3ms/step\n",
      "25/25 [==============================] - 0s 3ms/step\n",
      "25/25 [==============================] - 0s 3ms/step\n",
      "25/25 [==============================] - 0s 3ms/step\n",
      "25/25 [==============================] - 0s 3ms/step\n",
      "25/25 [==============================] - 0s 3ms/step\n",
      "25/25 [==============================] - 0s 3ms/step\n",
      "25/25 [==============================] - 0s 3ms/step\n",
      "25/25 [==============================] - 0s 3ms/step\n",
      "25/25 [==============================] - 0s 3ms/step\n",
      "25/25 [==============================] - 0s 3ms/step\n",
      "25/25 [==============================] - 0s 3ms/step\n",
      "25/25 [==============================] - 0s 3ms/step\n",
      "25/25 [==============================] - 0s 3ms/step\n",
      "25/25 [==============================] - 0s 3ms/step\n",
      "25/25 [==============================] - 0s 3ms/step\n",
      "25/25 [==============================] - 0s 3ms/step\n",
      "25/25 [==============================] - 0s 3ms/step\n",
      "25/25 [==============================] - 0s 3ms/step\n",
      "25/25 [==============================] - 0s 3ms/step\n",
      "25/25 [==============================] - 0s 3ms/step\n",
      "25/25 [==============================] - 0s 3ms/step\n",
      "25/25 [==============================] - 0s 3ms/step\n",
      "25/25 [==============================] - 0s 3ms/step\n",
      "25/25 [==============================] - 0s 3ms/step\n",
      "25/25 [==============================] - 0s 3ms/step\n",
      "25/25 [==============================] - 0s 3ms/step\n",
      "25/25 [==============================] - 0s 4ms/step\n",
      "25/25 [==============================] - 0s 3ms/step\n",
      "25/25 [==============================] - 0s 3ms/step\n",
      "25/25 [==============================] - 0s 4ms/step\n",
      "25/25 [==============================] - 0s 3ms/step\n",
      "25/25 [==============================] - 0s 3ms/step\n",
      "25/25 [==============================] - 0s 3ms/step\n",
      "25/25 [==============================] - 0s 3ms/step\n",
      "25/25 [==============================] - 0s 3ms/step\n",
      "25/25 [==============================] - 0s 3ms/step\n",
      "25/25 [==============================] - 0s 3ms/step\n",
      "25/25 [==============================] - 0s 3ms/step\n",
      "25/25 [==============================] - 0s 3ms/step\n",
      "25/25 [==============================] - 0s 3ms/step\n",
      "25/25 [==============================] - 0s 3ms/step\n",
      "25/25 [==============================] - 0s 3ms/step\n",
      "25/25 [==============================] - 0s 3ms/step\n",
      "25/25 [==============================] - 0s 3ms/step\n",
      "25/25 [==============================] - 0s 3ms/step\n",
      "25/25 [==============================] - 0s 3ms/step\n",
      "25/25 [==============================] - 0s 3ms/step\n",
      "25/25 [==============================] - 0s 3ms/step\n",
      "25/25 [==============================] - 0s 3ms/step\n",
      "25/25 [==============================] - 0s 3ms/step\n",
      "25/25 [==============================] - 0s 3ms/step\n",
      "25/25 [==============================] - 0s 3ms/step\n",
      "25/25 [==============================] - 0s 3ms/step\n",
      "25/25 [==============================] - 0s 3ms/step\n",
      "25/25 [==============================] - 0s 3ms/step\n",
      "25/25 [==============================] - 0s 3ms/step\n",
      "25/25 [==============================] - 0s 3ms/step\n",
      "25/25 [==============================] - 0s 3ms/step\n",
      "25/25 [==============================] - 0s 3ms/step\n",
      "25/25 [==============================] - 0s 3ms/step\n",
      "25/25 [==============================] - 0s 3ms/step\n",
      "25/25 [==============================] - 0s 3ms/step\n",
      "25/25 [==============================] - 0s 3ms/step\n",
      "25/25 [==============================] - 0s 3ms/step\n",
      "25/25 [==============================] - 0s 3ms/step\n",
      "25/25 [==============================] - 0s 3ms/step\n",
      "25/25 [==============================] - 0s 3ms/step\n",
      "25/25 [==============================] - 0s 3ms/step\n",
      "25/25 [==============================] - 0s 3ms/step\n",
      "25/25 [==============================] - 0s 3ms/step\n",
      "25/25 [==============================] - 0s 3ms/step\n",
      "25/25 [==============================] - 0s 3ms/step\n",
      "25/25 [==============================] - 0s 3ms/step\n",
      "25/25 [==============================] - 0s 3ms/step\n",
      "25/25 [==============================] - 0s 3ms/step\n",
      "25/25 [==============================] - 0s 3ms/step\n",
      "25/25 [==============================] - 0s 3ms/step\n",
      "25/25 [==============================] - 0s 3ms/step\n",
      "25/25 [==============================] - 0s 3ms/step\n",
      "25/25 [==============================] - 0s 3ms/step\n",
      "25/25 [==============================] - 0s 3ms/step\n",
      "25/25 [==============================] - 0s 3ms/step\n",
      "25/25 [==============================] - 0s 3ms/step\n",
      "25/25 [==============================] - 0s 3ms/step\n",
      "25/25 [==============================] - 0s 3ms/step\n",
      "25/25 [==============================] - 0s 3ms/step\n",
      "25/25 [==============================] - 0s 3ms/step\n",
      "25/25 [==============================] - 0s 3ms/step\n",
      "25/25 [==============================] - 0s 3ms/step\n",
      "25/25 [==============================] - 0s 3ms/step\n",
      "25/25 [==============================] - 0s 3ms/step\n",
      "Average Accuracy: 0.5986, Std Dev Accuracy: 0.0197\n",
      "Average AUC: 0.6056, Std Dev AUC: 0.0213\n"
     ]
    }
   ],
   "source": [
    "# Doing 100 simulations of the fixed code:\n",
    "snp_y = snp_matrix['PHENOTYPE'] - 1\n",
    "only_snps = snp_matrix.drop(columns=['FID', 'IID', 'PAT', 'MAT', 'PHENOTYPE', 'SEX'])\n",
    "only_snps = only_snps.fillna(0)\n",
    "\n",
    "# Placeholder for results\n",
    "accuracies = []\n",
    "aucs = []\n",
    "\n",
    "for i in range(100):\n",
    "    # Split the data\n",
    "    X_train, X_test, y_train, y_test = train_test_split(only_snps, snp_y, test_size=0.2)\n",
    "    \n",
    "    # Reshape the data\n",
    "    X_train = X_train.to_numpy().reshape((X_train.shape[0], X_train.shape[1], 1))\n",
    "    X_test = X_test.to_numpy().reshape((X_test.shape[0], X_test.shape[1], 1))\n",
    "    input_shape = X_test.shape[1:]\n",
    "    \n",
    "    # Build the model\n",
    "    model = Sequential()\n",
    "    model.add(Conv1D(filters=64, kernel_size=3, activation='relu', input_shape=input_shape))\n",
    "    model.add(Conv1D(filters=128, kernel_size=3, activation='relu'))\n",
    "    model.add(MaxPooling1D(pool_size=2))\n",
    "    model.add(Dropout(rate=0.5))\n",
    "    model.add(Conv1D(filters=64, kernel_size=3, activation='relu'))\n",
    "    model.add(MaxPooling1D(pool_size=2))\n",
    "    model.add(Dropout(rate=0.5))\n",
    "    model.add(Flatten())\n",
    "    model.add(Dense(50, activation='relu'))\n",
    "    model.add(Dense(1, activation='sigmoid'))\n",
    "    \n",
    "    # Compile the model\n",
    "    sgd = SGD(learning_rate=0.01, momentum=0.08)\n",
    "    model.compile(loss='binary_crossentropy', optimizer='adam', metrics=['accuracy'])\n",
    "    \n",
    "    # Train the model\n",
    "    history = model.fit(X_train, y_train, batch_size=128, epochs=95, verbose=0)\n",
    "    \n",
    "    # Evaluate the model\n",
    "    y_pred = model.predict(X_test).ravel()\n",
    "    accuracy = accuracy_score(y_test, np.round(y_pred))\n",
    "    auc = roc_auc_score(y_test, y_pred)\n",
    "    \n",
    "    # Store the results\n",
    "    accuracies.append(accuracy)\n",
    "    aucs.append(auc)\n",
    "\n",
    "# Calculate mean and standard deviation\n",
    "mean_accuracy = np.mean(accuracies)\n",
    "std_accuracy = np.std(accuracies)\n",
    "mean_auc = np.mean(aucs)\n",
    "std_auc = np.std(aucs)\n",
    "\n",
    "# Print the results\n",
    "print(f'Average Accuracy: {mean_accuracy:.4f}, Std Dev Accuracy: {std_accuracy:.4f}')\n",
    "print(f'Average AUC: {mean_auc:.4f}, Std Dev AUC: {std_auc:.4f}')"
   ]
  },
  {
   "cell_type": "code",
   "execution_count": null,
   "id": "9bcfb487",
   "metadata": {},
   "outputs": [],
   "source": []
  }
 ],
 "metadata": {
  "kernelspec": {
   "display_name": "Python 3 (ipykernel)",
   "language": "python",
   "name": "python3"
  },
  "language_info": {
   "codemirror_mode": {
    "name": "ipython",
    "version": 3
   },
   "file_extension": ".py",
   "mimetype": "text/x-python",
   "name": "python",
   "nbconvert_exporter": "python",
   "pygments_lexer": "ipython3",
   "version": "3.9.19"
  }
 },
 "nbformat": 4,
 "nbformat_minor": 5
}
